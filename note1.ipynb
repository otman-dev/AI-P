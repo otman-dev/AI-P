{
 "cells": [
  {
   "cell_type": "markdown",
   "metadata": {
    "id": "view-in-github",
    "colab_type": "text"
   },
   "source": [
    "<a href=\"https://colab.research.google.com/github/otman-dev/AI-P/blob/master/note1.ipynb\" target=\"_parent\"><img src=\"https://colab.research.google.com/assets/colab-badge.svg\" alt=\"Open In Colab\"/></a>"
   ]
  },
  {
   "cell_type": "code",
   "execution_count": null,
   "metadata": {
    "collapsed": true,
    "ExecuteTime": {
     "end_time": "2023-07-23T18:52:14.014349472Z",
     "start_time": "2023-07-23T18:52:13.644577067Z"
    },
    "id": "9OEin9pu26k8",
    "outputId": "82cc3216-d17d-4a24-850f-bb93f496fa2c",
    "colab": {
     "base_uri": "https://localhost:8080/",
     "height": 35
    }
   },
   "outputs": [
    {
     "output_type": "execute_result",
     "data": {
      "text/plain": [
       "'/content'"
      ],
      "application/vnd.google.colaboratory.intrinsic+json": {
       "type": "string"
      }
     },
     "metadata": {},
     "execution_count": 1
    }
   ],
   "source": [
    "pwd"
   ]
  },
  {
   "cell_type": "code",
   "source": [
    "ls"
   ],
   "metadata": {
    "id": "wJVJI3kp3Ja5",
    "outputId": "dde52ff4-1bef-4659-ab07-00537faae523",
    "colab": {
     "base_uri": "https://localhost:8080/"
    }
   },
   "execution_count": null,
   "outputs": [
    {
     "output_type": "stream",
     "name": "stdout",
     "text": [
      "\u001B[0m\u001B[01;34msample_data\u001B[0m/\n"
     ]
    }
   ]
  },
  {
   "cell_type": "code",
   "source": [
    "%cd sample_data"
   ],
   "metadata": {
    "id": "rOyJl0s23SYw",
    "colab": {
     "base_uri": "https://localhost:8080/"
    },
    "outputId": "1f5caad1-f0ed-45f3-e828-3827ca4cbafa"
   },
   "execution_count": 1,
   "outputs": [
    {
     "output_type": "stream",
     "name": "stdout",
     "text": [
      "/content/sample_data\n"
     ]
    }
   ]
  },
  {
   "cell_type": "code",
   "source": [
    "%cat \"this shit is working good\""
   ],
   "metadata": {
    "id": "FzyYpfHr5ZPV",
    "ExecuteTime": {
     "end_time": "2023-07-24T03:22:34.892001982Z",
     "start_time": "2023-07-24T03:22:32.852700278Z"
    }
   },
   "execution_count": 1,
   "outputs": [
    {
     "name": "stdout",
     "output_type": "stream",
     "text": [
      "cat: 'this shit is working good': No such file or directory\r\n"
     ]
    }
   ]
  },
  {
   "cell_type": "code",
   "execution_count": null,
   "outputs": [],
   "source": [],
   "metadata": {
    "collapsed": false
   }
  }
 ],
 "metadata": {
  "kernelspec": {
   "display_name": "Python 3",
   "language": "python",
   "name": "python3"
  },
  "language_info": {
   "codemirror_mode": {
    "name": "ipython",
    "version": 2
   },
   "file_extension": ".py",
   "mimetype": "text/x-python",
   "name": "python",
   "nbconvert_exporter": "python",
   "pygments_lexer": "ipython2",
   "version": "2.7.6"
  },
  "colab": {
   "provenance": [],
   "include_colab_link": true
  }
 },
 "nbformat": 4,
 "nbformat_minor": 0
}
